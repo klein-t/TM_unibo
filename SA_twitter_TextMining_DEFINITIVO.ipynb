{
  "cells": [
    {
      "cell_type": "markdown",
      "source": [
        "# Sentiment Analysis and Topic Modelling on Twitter Dataset\n",
        "\n",
        "The task chose for this project is sentiment analysis on a collection of 1.6*10e6 randomly sampled tweets. The dataset contains information about the text, the date, the username and of course about the correspondant label.\n",
        "\n",
        "In order to tackle the problem, I use three different architectures:\n",
        "- a regression model;\n",
        "- a dense connected feed forward model\n",
        "- a feed forward network with an embedding and a self attention layer.\n",
        "\n",
        "Before proceding, data is cleaned and formatted.\n",
        "\n",
        "I feed feature vectors to the regression model and the first neural architecture, whereas for the second model sentences are embedded using a pre-trained model, nalmely GloVe.\n",
        "\n",
        "Results are evaluated usign precisio-recall curves to select the best threshold for discrimination of data. A classification report and a confusion matrix are also provided for each model.\n",
        "\n",
        "Finally, topics are estracted using Latent Dirichlet Allocation and each sentence is labeled with a topic using GloVe embeddings."
      ],
      "metadata": {
        "id": "e8QpVQPFSVF9"
      }
    },
    {
      "cell_type": "markdown",
      "metadata": {
        "id": "gRA1rXSfi3Al"
      },
      "source": [
        "#Installing and importing Libraries"
      ]
    },
    {
      "cell_type": "code",
      "execution_count": 1,
      "metadata": {
        "id": "YMjqJ8fEGmKz"
      },
      "outputs": [],
      "source": [
        "import tensorflow as tf\n",
        "import pandas as pd\n",
        "import matplotlib as plt\n",
        "import re\n",
        "import nltk\n",
        "import zipfile\n",
        "import os\n",
        "import tensorflow as tf\n",
        "import numpy as np\n",
        "\n",
        "from nltk.tokenize import wordpunct_tokenize\n",
        "from numpy import argmax\n",
        "\n",
        "from sklearn.model_selection import train_test_split\n",
        "from sklearn.feature_extraction.text import CountVectorizer\n",
        "from sklearn.metrics import confusion_matrix\n",
        "from sklearn.metrics import classification_report, ConfusionMatrixDisplay, PrecisionRecallDisplay\n",
        "from sklearn.metrics import precision_recall_curve\n",
        "\n",
        "from keras.models import Sequential\n",
        "from keras import layers\n",
        "\n",
        "\n",
        "\n",
        "from tensorflow.keras.models import Model\n",
        "from tensorflow.keras.layers import Input, Dense\n"
      ]
    },
    {
      "cell_type": "code",
      "execution_count": 2,
      "metadata": {
        "colab": {
          "base_uri": "https://localhost:8080/"
        },
        "id": "ZgqVAQVJNGFm",
        "outputId": "3badc1d7-92be-4203-f4aa-7b8c99fa72cc"
      },
      "outputs": [
        {
          "output_type": "stream",
          "name": "stdout",
          "text": [
            "Mounted at /gdrive\n",
            "/gdrive\n"
          ]
        }
      ],
      "source": [
        "#The notebook is thought to be run in Google Colab, thus the Drive folder is mounted.\n",
        "\n",
        "from google.colab import drive\n",
        "drive.mount('/gdrive')\n",
        "%cd /gdrive"
      ]
    },
    {
      "cell_type": "markdown",
      "metadata": {
        "id": "NIqQt7xFOtzy"
      },
      "source": [
        "\n",
        "Importing the dataset and loading it into a Pandas DataFrame"
      ]
    },
    {
      "cell_type": "code",
      "execution_count": 3,
      "metadata": {
        "id": "sGw63XWvNyPU"
      },
      "outputs": [],
      "source": [
        "#The dataset I'm using in this project comes from Kaggle. For the scope of this project it was downloaded and stored in /gdrive/MyDrive/TextMining/ under the name of Twitter_SA.zip\n",
        "\n",
        "\n",
        "file_path = '/gdrive/MyDrive/TextMining/Twitter_SA.zip'\n",
        "encoding = \"ISO-8859-1\"\n",
        "column_names = [\"labels\", \"ids\", \"date\", \"dunno\", \"user\", \"text\"]\n",
        "compression = 'zip'\n",
        "\n",
        "\n",
        "df = pd.read_csv(file_path, compression = compression, names = column_names, encoding = encoding, sep=',', quotechar='\"')"
      ]
    },
    {
      "cell_type": "code",
      "execution_count": 4,
      "metadata": {
        "colab": {
          "base_uri": "https://localhost:8080/",
          "height": 211
        },
        "id": "WGKgg-9XOLNk",
        "outputId": "dc2e8868-3d24-4a0c-e955-67230183900e"
      },
      "outputs": [
        {
          "output_type": "stream",
          "name": "stdout",
          "text": [
            "\n",
            "The dataset has a raw total of 1600000 entries\n"
          ]
        },
        {
          "output_type": "execute_result",
          "data": {
            "text/plain": [
              "   labels         ids                          date     dunno  \\\n",
              "0       0  1467810369  Mon Apr 06 22:19:45 PDT 2009  NO_QUERY   \n",
              "1       0  1467810672  Mon Apr 06 22:19:49 PDT 2009  NO_QUERY   \n",
              "2       0  1467810917  Mon Apr 06 22:19:53 PDT 2009  NO_QUERY   \n",
              "3       0  1467811184  Mon Apr 06 22:19:57 PDT 2009  NO_QUERY   \n",
              "\n",
              "              user                                               text  \n",
              "0  _TheSpecialOne_  @switchfoot http://twitpic.com/2y1zl - Awww, t...  \n",
              "1    scotthamilton  is upset that he can't update his Facebook by ...  \n",
              "2         mattycus  @Kenichan I dived many times for the ball. Man...  \n",
              "3          ElleCTF    my whole body feels itchy and like its on fire   "
            ],
            "text/html": [
              "\n",
              "  <div id=\"df-86fa65b4-a85f-4951-aaa9-07db31bc932d\">\n",
              "    <div class=\"colab-df-container\">\n",
              "      <div>\n",
              "<style scoped>\n",
              "    .dataframe tbody tr th:only-of-type {\n",
              "        vertical-align: middle;\n",
              "    }\n",
              "\n",
              "    .dataframe tbody tr th {\n",
              "        vertical-align: top;\n",
              "    }\n",
              "\n",
              "    .dataframe thead th {\n",
              "        text-align: right;\n",
              "    }\n",
              "</style>\n",
              "<table border=\"1\" class=\"dataframe\">\n",
              "  <thead>\n",
              "    <tr style=\"text-align: right;\">\n",
              "      <th></th>\n",
              "      <th>labels</th>\n",
              "      <th>ids</th>\n",
              "      <th>date</th>\n",
              "      <th>dunno</th>\n",
              "      <th>user</th>\n",
              "      <th>text</th>\n",
              "    </tr>\n",
              "  </thead>\n",
              "  <tbody>\n",
              "    <tr>\n",
              "      <th>0</th>\n",
              "      <td>0</td>\n",
              "      <td>1467810369</td>\n",
              "      <td>Mon Apr 06 22:19:45 PDT 2009</td>\n",
              "      <td>NO_QUERY</td>\n",
              "      <td>_TheSpecialOne_</td>\n",
              "      <td>@switchfoot http://twitpic.com/2y1zl - Awww, t...</td>\n",
              "    </tr>\n",
              "    <tr>\n",
              "      <th>1</th>\n",
              "      <td>0</td>\n",
              "      <td>1467810672</td>\n",
              "      <td>Mon Apr 06 22:19:49 PDT 2009</td>\n",
              "      <td>NO_QUERY</td>\n",
              "      <td>scotthamilton</td>\n",
              "      <td>is upset that he can't update his Facebook by ...</td>\n",
              "    </tr>\n",
              "    <tr>\n",
              "      <th>2</th>\n",
              "      <td>0</td>\n",
              "      <td>1467810917</td>\n",
              "      <td>Mon Apr 06 22:19:53 PDT 2009</td>\n",
              "      <td>NO_QUERY</td>\n",
              "      <td>mattycus</td>\n",
              "      <td>@Kenichan I dived many times for the ball. Man...</td>\n",
              "    </tr>\n",
              "    <tr>\n",
              "      <th>3</th>\n",
              "      <td>0</td>\n",
              "      <td>1467811184</td>\n",
              "      <td>Mon Apr 06 22:19:57 PDT 2009</td>\n",
              "      <td>NO_QUERY</td>\n",
              "      <td>ElleCTF</td>\n",
              "      <td>my whole body feels itchy and like its on fire</td>\n",
              "    </tr>\n",
              "  </tbody>\n",
              "</table>\n",
              "</div>\n",
              "      <button class=\"colab-df-convert\" onclick=\"convertToInteractive('df-86fa65b4-a85f-4951-aaa9-07db31bc932d')\"\n",
              "              title=\"Convert this dataframe to an interactive table.\"\n",
              "              style=\"display:none;\">\n",
              "        \n",
              "  <svg xmlns=\"http://www.w3.org/2000/svg\" height=\"24px\"viewBox=\"0 0 24 24\"\n",
              "       width=\"24px\">\n",
              "    <path d=\"M0 0h24v24H0V0z\" fill=\"none\"/>\n",
              "    <path d=\"M18.56 5.44l.94 2.06.94-2.06 2.06-.94-2.06-.94-.94-2.06-.94 2.06-2.06.94zm-11 1L8.5 8.5l.94-2.06 2.06-.94-2.06-.94L8.5 2.5l-.94 2.06-2.06.94zm10 10l.94 2.06.94-2.06 2.06-.94-2.06-.94-.94-2.06-.94 2.06-2.06.94z\"/><path d=\"M17.41 7.96l-1.37-1.37c-.4-.4-.92-.59-1.43-.59-.52 0-1.04.2-1.43.59L10.3 9.45l-7.72 7.72c-.78.78-.78 2.05 0 2.83L4 21.41c.39.39.9.59 1.41.59.51 0 1.02-.2 1.41-.59l7.78-7.78 2.81-2.81c.8-.78.8-2.07 0-2.86zM5.41 20L4 18.59l7.72-7.72 1.47 1.35L5.41 20z\"/>\n",
              "  </svg>\n",
              "      </button>\n",
              "      \n",
              "  <style>\n",
              "    .colab-df-container {\n",
              "      display:flex;\n",
              "      flex-wrap:wrap;\n",
              "      gap: 12px;\n",
              "    }\n",
              "\n",
              "    .colab-df-convert {\n",
              "      background-color: #E8F0FE;\n",
              "      border: none;\n",
              "      border-radius: 50%;\n",
              "      cursor: pointer;\n",
              "      display: none;\n",
              "      fill: #1967D2;\n",
              "      height: 32px;\n",
              "      padding: 0 0 0 0;\n",
              "      width: 32px;\n",
              "    }\n",
              "\n",
              "    .colab-df-convert:hover {\n",
              "      background-color: #E2EBFA;\n",
              "      box-shadow: 0px 1px 2px rgba(60, 64, 67, 0.3), 0px 1px 3px 1px rgba(60, 64, 67, 0.15);\n",
              "      fill: #174EA6;\n",
              "    }\n",
              "\n",
              "    [theme=dark] .colab-df-convert {\n",
              "      background-color: #3B4455;\n",
              "      fill: #D2E3FC;\n",
              "    }\n",
              "\n",
              "    [theme=dark] .colab-df-convert:hover {\n",
              "      background-color: #434B5C;\n",
              "      box-shadow: 0px 1px 3px 1px rgba(0, 0, 0, 0.15);\n",
              "      filter: drop-shadow(0px 1px 2px rgba(0, 0, 0, 0.3));\n",
              "      fill: #FFFFFF;\n",
              "    }\n",
              "  </style>\n",
              "\n",
              "      <script>\n",
              "        const buttonEl =\n",
              "          document.querySelector('#df-86fa65b4-a85f-4951-aaa9-07db31bc932d button.colab-df-convert');\n",
              "        buttonEl.style.display =\n",
              "          google.colab.kernel.accessAllowed ? 'block' : 'none';\n",
              "\n",
              "        async function convertToInteractive(key) {\n",
              "          const element = document.querySelector('#df-86fa65b4-a85f-4951-aaa9-07db31bc932d');\n",
              "          const dataTable =\n",
              "            await google.colab.kernel.invokeFunction('convertToInteractive',\n",
              "                                                     [key], {});\n",
              "          if (!dataTable) return;\n",
              "\n",
              "          const docLinkHtml = 'Like what you see? Visit the ' +\n",
              "            '<a target=\"_blank\" href=https://colab.research.google.com/notebooks/data_table.ipynb>data table notebook</a>'\n",
              "            + ' to learn more about interactive tables.';\n",
              "          element.innerHTML = '';\n",
              "          dataTable['output_type'] = 'display_data';\n",
              "          await google.colab.output.renderOutput(dataTable, element);\n",
              "          const docLink = document.createElement('div');\n",
              "          docLink.innerHTML = docLinkHtml;\n",
              "          element.appendChild(docLink);\n",
              "        }\n",
              "      </script>\n",
              "    </div>\n",
              "  </div>\n",
              "  "
            ]
          },
          "metadata": {},
          "execution_count": 4
        }
      ],
      "source": [
        "# As a first step, we give a look to our data. It is composed of 6 columns, containing information like the text and the associated label, but also some additional \n",
        "# information about the date, the id and the user.\n",
        "\n",
        "entries = df.shape[0]\n",
        "print('\\nThe dataset has a raw total of {} entries'.format(entries))\n",
        "\n",
        "df.head(4)"
      ]
    },
    {
      "cell_type": "markdown",
      "metadata": {
        "id": "8oiIcr-YjDT9"
      },
      "source": [
        "#Pre-processing"
      ]
    },
    {
      "cell_type": "code",
      "execution_count": 5,
      "metadata": {
        "id": "Vs64fG2cg3PI"
      },
      "outputs": [],
      "source": [
        "# For the scope of this project we will focus only on text data and the correspondant labels, thus we drop superfluous columns.\n",
        "\n",
        "\n",
        "to_drop = ['ids', 'date', 'dunno', 'user']\n",
        "\n",
        "df.drop( to_drop, inplace=True, axis=1)"
      ]
    },
    {
      "cell_type": "code",
      "execution_count": 10,
      "metadata": {
        "colab": {
          "base_uri": "https://localhost:8080/",
          "height": 206
        },
        "id": "DMzWpRpwhoU_",
        "outputId": "201ae8a0-0b1e-441a-80da-4fefea6a056c"
      },
      "outputs": [
        {
          "output_type": "execute_result",
          "data": {
            "text/plain": [
              "   labels                                               text\n",
              "0       0  @switchfoot http://twitpic.com/2y1zl - Awww, t...\n",
              "1       0  is upset that he can't update his Facebook by ...\n",
              "2       0  @Kenichan I dived many times for the ball. Man...\n",
              "3       0    my whole body feels itchy and like its on fire \n",
              "4       0  @nationwideclass no, it's not behaving at all...."
            ],
            "text/html": [
              "\n",
              "  <div id=\"df-77d8d7a5-a018-404c-97b8-54c9b3df14e5\">\n",
              "    <div class=\"colab-df-container\">\n",
              "      <div>\n",
              "<style scoped>\n",
              "    .dataframe tbody tr th:only-of-type {\n",
              "        vertical-align: middle;\n",
              "    }\n",
              "\n",
              "    .dataframe tbody tr th {\n",
              "        vertical-align: top;\n",
              "    }\n",
              "\n",
              "    .dataframe thead th {\n",
              "        text-align: right;\n",
              "    }\n",
              "</style>\n",
              "<table border=\"1\" class=\"dataframe\">\n",
              "  <thead>\n",
              "    <tr style=\"text-align: right;\">\n",
              "      <th></th>\n",
              "      <th>labels</th>\n",
              "      <th>text</th>\n",
              "    </tr>\n",
              "  </thead>\n",
              "  <tbody>\n",
              "    <tr>\n",
              "      <th>0</th>\n",
              "      <td>0</td>\n",
              "      <td>@switchfoot http://twitpic.com/2y1zl - Awww, t...</td>\n",
              "    </tr>\n",
              "    <tr>\n",
              "      <th>1</th>\n",
              "      <td>0</td>\n",
              "      <td>is upset that he can't update his Facebook by ...</td>\n",
              "    </tr>\n",
              "    <tr>\n",
              "      <th>2</th>\n",
              "      <td>0</td>\n",
              "      <td>@Kenichan I dived many times for the ball. Man...</td>\n",
              "    </tr>\n",
              "    <tr>\n",
              "      <th>3</th>\n",
              "      <td>0</td>\n",
              "      <td>my whole body feels itchy and like its on fire</td>\n",
              "    </tr>\n",
              "    <tr>\n",
              "      <th>4</th>\n",
              "      <td>0</td>\n",
              "      <td>@nationwideclass no, it's not behaving at all....</td>\n",
              "    </tr>\n",
              "  </tbody>\n",
              "</table>\n",
              "</div>\n",
              "      <button class=\"colab-df-convert\" onclick=\"convertToInteractive('df-77d8d7a5-a018-404c-97b8-54c9b3df14e5')\"\n",
              "              title=\"Convert this dataframe to an interactive table.\"\n",
              "              style=\"display:none;\">\n",
              "        \n",
              "  <svg xmlns=\"http://www.w3.org/2000/svg\" height=\"24px\"viewBox=\"0 0 24 24\"\n",
              "       width=\"24px\">\n",
              "    <path d=\"M0 0h24v24H0V0z\" fill=\"none\"/>\n",
              "    <path d=\"M18.56 5.44l.94 2.06.94-2.06 2.06-.94-2.06-.94-.94-2.06-.94 2.06-2.06.94zm-11 1L8.5 8.5l.94-2.06 2.06-.94-2.06-.94L8.5 2.5l-.94 2.06-2.06.94zm10 10l.94 2.06.94-2.06 2.06-.94-2.06-.94-.94-2.06-.94 2.06-2.06.94z\"/><path d=\"M17.41 7.96l-1.37-1.37c-.4-.4-.92-.59-1.43-.59-.52 0-1.04.2-1.43.59L10.3 9.45l-7.72 7.72c-.78.78-.78 2.05 0 2.83L4 21.41c.39.39.9.59 1.41.59.51 0 1.02-.2 1.41-.59l7.78-7.78 2.81-2.81c.8-.78.8-2.07 0-2.86zM5.41 20L4 18.59l7.72-7.72 1.47 1.35L5.41 20z\"/>\n",
              "  </svg>\n",
              "      </button>\n",
              "      \n",
              "  <style>\n",
              "    .colab-df-container {\n",
              "      display:flex;\n",
              "      flex-wrap:wrap;\n",
              "      gap: 12px;\n",
              "    }\n",
              "\n",
              "    .colab-df-convert {\n",
              "      background-color: #E8F0FE;\n",
              "      border: none;\n",
              "      border-radius: 50%;\n",
              "      cursor: pointer;\n",
              "      display: none;\n",
              "      fill: #1967D2;\n",
              "      height: 32px;\n",
              "      padding: 0 0 0 0;\n",
              "      width: 32px;\n",
              "    }\n",
              "\n",
              "    .colab-df-convert:hover {\n",
              "      background-color: #E2EBFA;\n",
              "      box-shadow: 0px 1px 2px rgba(60, 64, 67, 0.3), 0px 1px 3px 1px rgba(60, 64, 67, 0.15);\n",
              "      fill: #174EA6;\n",
              "    }\n",
              "\n",
              "    [theme=dark] .colab-df-convert {\n",
              "      background-color: #3B4455;\n",
              "      fill: #D2E3FC;\n",
              "    }\n",
              "\n",
              "    [theme=dark] .colab-df-convert:hover {\n",
              "      background-color: #434B5C;\n",
              "      box-shadow: 0px 1px 3px 1px rgba(0, 0, 0, 0.15);\n",
              "      filter: drop-shadow(0px 1px 2px rgba(0, 0, 0, 0.3));\n",
              "      fill: #FFFFFF;\n",
              "    }\n",
              "  </style>\n",
              "\n",
              "      <script>\n",
              "        const buttonEl =\n",
              "          document.querySelector('#df-77d8d7a5-a018-404c-97b8-54c9b3df14e5 button.colab-df-convert');\n",
              "        buttonEl.style.display =\n",
              "          google.colab.kernel.accessAllowed ? 'block' : 'none';\n",
              "\n",
              "        async function convertToInteractive(key) {\n",
              "          const element = document.querySelector('#df-77d8d7a5-a018-404c-97b8-54c9b3df14e5');\n",
              "          const dataTable =\n",
              "            await google.colab.kernel.invokeFunction('convertToInteractive',\n",
              "                                                     [key], {});\n",
              "          if (!dataTable) return;\n",
              "\n",
              "          const docLinkHtml = 'Like what you see? Visit the ' +\n",
              "            '<a target=\"_blank\" href=https://colab.research.google.com/notebooks/data_table.ipynb>data table notebook</a>'\n",
              "            + ' to learn more about interactive tables.';\n",
              "          element.innerHTML = '';\n",
              "          dataTable['output_type'] = 'display_data';\n",
              "          await google.colab.output.renderOutput(dataTable, element);\n",
              "          const docLink = document.createElement('div');\n",
              "          docLink.innerHTML = docLinkHtml;\n",
              "          element.appendChild(docLink);\n",
              "        }\n",
              "      </script>\n",
              "    </div>\n",
              "  </div>\n",
              "  "
            ]
          },
          "metadata": {},
          "execution_count": 10
        }
      ],
      "source": [
        "df.head()"
      ]
    },
    {
      "cell_type": "code",
      "execution_count": 6,
      "metadata": {
        "colab": {
          "base_uri": "https://localhost:8080/"
        },
        "id": "YgpQokhdh_4c",
        "outputId": "485ff57d-ddc7-425a-c5c2-eb50c644086e"
      },
      "outputs": [
        {
          "output_type": "execute_result",
          "data": {
            "text/plain": [
              "0    800000\n",
              "4    800000\n",
              "Name: labels, dtype: int64"
            ]
          },
          "metadata": {},
          "execution_count": 6
        }
      ],
      "source": [
        "# For the sake of error analysis, we first have to understand how our labels are distributed. In this case, they are equally distributed among the two classes.\n",
        "# Data results equally distributed among negative and positive class.\n",
        "\n",
        "df['labels'].value_counts()"
      ]
    },
    {
      "cell_type": "code",
      "execution_count": 7,
      "metadata": {
        "id": "xPSqreSukOAg"
      },
      "outputs": [],
      "source": [
        "# As positive labels are indicated using a 4, we map them to 1 in order to have a more manageble dataset for the classification.\n",
        "\n",
        "df['labels'] = df['labels'].apply(lambda x: 1 if x == 4 else 0)"
      ]
    },
    {
      "cell_type": "code",
      "execution_count": 8,
      "metadata": {
        "colab": {
          "base_uri": "https://localhost:8080/"
        },
        "id": "ESpjAUVplIf0",
        "outputId": "184086c5-bef7-4331-c152-4b23367c1298"
      },
      "outputs": [
        {
          "output_type": "execute_result",
          "data": {
            "text/plain": [
              "0    800000\n",
              "1    800000\n",
              "Name: labels, dtype: int64"
            ]
          },
          "metadata": {},
          "execution_count": 8
        }
      ],
      "source": [
        "# Checking that everything is ok with the mapping.\n",
        "\n",
        "df['labels'].value_counts()"
      ]
    },
    {
      "cell_type": "code",
      "execution_count": 9,
      "metadata": {
        "colab": {
          "base_uri": "https://localhost:8080/"
        },
        "id": "IIT2Ab7Ml1zf",
        "outputId": "a6dd241b-eeca-4152-c90e-35d0e4a29f85"
      },
      "outputs": [
        {
          "output_type": "execute_result",
          "data": {
            "text/plain": [
              "False"
            ]
          },
          "metadata": {},
          "execution_count": 9
        }
      ],
      "source": [
        "# Checking for NaN values among text entries. Results that there are no NaN values.\n",
        "\n",
        "df['text'].isnull().values.any()"
      ]
    },
    {
      "cell_type": "markdown",
      "metadata": {
        "id": "oBBsayd3QTOm"
      },
      "source": [
        "Performing some basic text processing to get rid of special symbols, to lowercase and to expand contractions in order to gather as information as possible during training phase of the NNs."
      ]
    },
    {
      "cell_type": "code",
      "execution_count": 10,
      "metadata": {
        "id": "F6BvLzfIQGA9"
      },
      "outputs": [],
      "source": [
        "# Defining a function for cleaning. On this step also usernames tags and urls are removed.\n",
        "\n",
        "def clean(text):\n",
        "\n",
        "  # I use regex to specify charaters and compbinations of characters that we want to remove. \n",
        "  to_remove = r\"(@[^\\s]+|@\\[A-Za-z0-9]+)|([^0-9A-Za-z \\t])|(\\w+:\\/\\/\\S+)|^rt|http.+?|\"\n",
        "\n",
        "  # I also lowercase the text and remove spaces at the beginning and at the end of sentences.\n",
        "  text = re.sub (to_remove , \"\", str(text).lower()).strip()\n",
        "\n",
        "  # Contractions could also be expanded using Contractions.contractions, but it takes an excessive amount of time and I decided to not use it for the moment.\n",
        "  # text = contractions.fix(text)\n",
        "\n",
        "  return text\n",
        "\n",
        "\n",
        "# I apply the clean function to each entry of the df['text'] column. \n",
        "df['text'] = df['text'].apply(lambda text: clean(text))\n"
      ]
    },
    {
      "cell_type": "code",
      "execution_count": 16,
      "metadata": {
        "colab": {
          "base_uri": "https://localhost:8080/",
          "height": 206
        },
        "id": "OHwFidv3AnOL",
        "outputId": "bb8396c9-c190-406c-945e-11e3b29e443b"
      },
      "outputs": [
        {
          "output_type": "execute_result",
          "data": {
            "text/plain": [
              "   labels                                               text\n",
              "0       0  awww thats a bummer  you shoulda got david car...\n",
              "1       0  is upset that he cant update his facebook by t...\n",
              "2       0  i dived many times for the ball managed to sav...\n",
              "3       0     my whole body feels itchy and like its on fire\n",
              "4       0  no its not behaving at all im mad why am i her..."
            ],
            "text/html": [
              "\n",
              "  <div id=\"df-b324495a-4fc4-4045-a291-d172697a7e29\">\n",
              "    <div class=\"colab-df-container\">\n",
              "      <div>\n",
              "<style scoped>\n",
              "    .dataframe tbody tr th:only-of-type {\n",
              "        vertical-align: middle;\n",
              "    }\n",
              "\n",
              "    .dataframe tbody tr th {\n",
              "        vertical-align: top;\n",
              "    }\n",
              "\n",
              "    .dataframe thead th {\n",
              "        text-align: right;\n",
              "    }\n",
              "</style>\n",
              "<table border=\"1\" class=\"dataframe\">\n",
              "  <thead>\n",
              "    <tr style=\"text-align: right;\">\n",
              "      <th></th>\n",
              "      <th>labels</th>\n",
              "      <th>text</th>\n",
              "    </tr>\n",
              "  </thead>\n",
              "  <tbody>\n",
              "    <tr>\n",
              "      <th>0</th>\n",
              "      <td>0</td>\n",
              "      <td>awww thats a bummer  you shoulda got david car...</td>\n",
              "    </tr>\n",
              "    <tr>\n",
              "      <th>1</th>\n",
              "      <td>0</td>\n",
              "      <td>is upset that he cant update his facebook by t...</td>\n",
              "    </tr>\n",
              "    <tr>\n",
              "      <th>2</th>\n",
              "      <td>0</td>\n",
              "      <td>i dived many times for the ball managed to sav...</td>\n",
              "    </tr>\n",
              "    <tr>\n",
              "      <th>3</th>\n",
              "      <td>0</td>\n",
              "      <td>my whole body feels itchy and like its on fire</td>\n",
              "    </tr>\n",
              "    <tr>\n",
              "      <th>4</th>\n",
              "      <td>0</td>\n",
              "      <td>no its not behaving at all im mad why am i her...</td>\n",
              "    </tr>\n",
              "  </tbody>\n",
              "</table>\n",
              "</div>\n",
              "      <button class=\"colab-df-convert\" onclick=\"convertToInteractive('df-b324495a-4fc4-4045-a291-d172697a7e29')\"\n",
              "              title=\"Convert this dataframe to an interactive table.\"\n",
              "              style=\"display:none;\">\n",
              "        \n",
              "  <svg xmlns=\"http://www.w3.org/2000/svg\" height=\"24px\"viewBox=\"0 0 24 24\"\n",
              "       width=\"24px\">\n",
              "    <path d=\"M0 0h24v24H0V0z\" fill=\"none\"/>\n",
              "    <path d=\"M18.56 5.44l.94 2.06.94-2.06 2.06-.94-2.06-.94-.94-2.06-.94 2.06-2.06.94zm-11 1L8.5 8.5l.94-2.06 2.06-.94-2.06-.94L8.5 2.5l-.94 2.06-2.06.94zm10 10l.94 2.06.94-2.06 2.06-.94-2.06-.94-.94-2.06-.94 2.06-2.06.94z\"/><path d=\"M17.41 7.96l-1.37-1.37c-.4-.4-.92-.59-1.43-.59-.52 0-1.04.2-1.43.59L10.3 9.45l-7.72 7.72c-.78.78-.78 2.05 0 2.83L4 21.41c.39.39.9.59 1.41.59.51 0 1.02-.2 1.41-.59l7.78-7.78 2.81-2.81c.8-.78.8-2.07 0-2.86zM5.41 20L4 18.59l7.72-7.72 1.47 1.35L5.41 20z\"/>\n",
              "  </svg>\n",
              "      </button>\n",
              "      \n",
              "  <style>\n",
              "    .colab-df-container {\n",
              "      display:flex;\n",
              "      flex-wrap:wrap;\n",
              "      gap: 12px;\n",
              "    }\n",
              "\n",
              "    .colab-df-convert {\n",
              "      background-color: #E8F0FE;\n",
              "      border: none;\n",
              "      border-radius: 50%;\n",
              "      cursor: pointer;\n",
              "      display: none;\n",
              "      fill: #1967D2;\n",
              "      height: 32px;\n",
              "      padding: 0 0 0 0;\n",
              "      width: 32px;\n",
              "    }\n",
              "\n",
              "    .colab-df-convert:hover {\n",
              "      background-color: #E2EBFA;\n",
              "      box-shadow: 0px 1px 2px rgba(60, 64, 67, 0.3), 0px 1px 3px 1px rgba(60, 64, 67, 0.15);\n",
              "      fill: #174EA6;\n",
              "    }\n",
              "\n",
              "    [theme=dark] .colab-df-convert {\n",
              "      background-color: #3B4455;\n",
              "      fill: #D2E3FC;\n",
              "    }\n",
              "\n",
              "    [theme=dark] .colab-df-convert:hover {\n",
              "      background-color: #434B5C;\n",
              "      box-shadow: 0px 1px 3px 1px rgba(0, 0, 0, 0.15);\n",
              "      filter: drop-shadow(0px 1px 2px rgba(0, 0, 0, 0.3));\n",
              "      fill: #FFFFFF;\n",
              "    }\n",
              "  </style>\n",
              "\n",
              "      <script>\n",
              "        const buttonEl =\n",
              "          document.querySelector('#df-b324495a-4fc4-4045-a291-d172697a7e29 button.colab-df-convert');\n",
              "        buttonEl.style.display =\n",
              "          google.colab.kernel.accessAllowed ? 'block' : 'none';\n",
              "\n",
              "        async function convertToInteractive(key) {\n",
              "          const element = document.querySelector('#df-b324495a-4fc4-4045-a291-d172697a7e29');\n",
              "          const dataTable =\n",
              "            await google.colab.kernel.invokeFunction('convertToInteractive',\n",
              "                                                     [key], {});\n",
              "          if (!dataTable) return;\n",
              "\n",
              "          const docLinkHtml = 'Like what you see? Visit the ' +\n",
              "            '<a target=\"_blank\" href=https://colab.research.google.com/notebooks/data_table.ipynb>data table notebook</a>'\n",
              "            + ' to learn more about interactive tables.';\n",
              "          element.innerHTML = '';\n",
              "          dataTable['output_type'] = 'display_data';\n",
              "          await google.colab.output.renderOutput(dataTable, element);\n",
              "          const docLink = document.createElement('div');\n",
              "          docLink.innerHTML = docLinkHtml;\n",
              "          element.appendChild(docLink);\n",
              "        }\n",
              "      </script>\n",
              "    </div>\n",
              "  </div>\n",
              "  "
            ]
          },
          "metadata": {},
          "execution_count": 16
        }
      ],
      "source": [
        "df.head()"
      ]
    },
    {
      "cell_type": "code",
      "execution_count": 11,
      "metadata": {
        "id": "Qf2fU5B3jvIw"
      },
      "outputs": [],
      "source": [
        "# I extract sentences and labels in order to procede to split the dataset into train and test sets.\n",
        "\n",
        "sentences = df['text'].values\n",
        "labels = df['labels'].values\n",
        "\n",
        "sentences_train, sentences_test, labels_train, labels_test = train_test_split(sentences, labels, test_size=0.25, random_state=42)"
      ]
    },
    {
      "cell_type": "code",
      "source": [
        "# In order to have a better sense of the words that make up our corpus, I display a wordcloud\n",
        "\n",
        "from wordcloud import WordCloud\n",
        "\n",
        "\n",
        "joint_tweets = ','.join(sentences)\n",
        "wordcloud = WordCloud(background_color=\"white\", max_words=5000, contour_width=3, colormap = 'Set3')\n",
        "wordcloud.generate(joint_tweets)\n",
        "wordcloud.to_image()"
      ],
      "metadata": {
        "id": "4dXp9YUUhQCc",
        "colab": {
          "base_uri": "https://localhost:8080/",
          "height": 217
        },
        "outputId": "79f9a986-aa11-457c-e639-fc8aa10fc028"
      },
      "execution_count": 18,
      "outputs": [
        {
          "output_type": "execute_result",
          "data": {
            "text/plain": [
              "<PIL.Image.Image image mode=RGB size=400x200 at 0x7F90CC779F50>"
            ],
            "image/png": "[encoded data removed]"
          },
          "metadata": {},
          "execution_count": 18
        }
      ]
    },
    {
      "cell_type": "markdown",
      "metadata": {
        "id": "V5oDxsyYjL1p"
      },
      "source": [
        "#Preparing for Baseline model (regression)"
      ]
    },
    {
      "cell_type": "code",
      "execution_count": 19,
      "metadata": {
        "id": "p4WkqSJCIrtM",
        "colab": {
          "base_uri": "https://localhost:8080/",
          "height": 206
        },
        "outputId": "351352fc-df4e-4516-9678-5bcc760e9f5a"
      },
      "outputs": [
        {
          "output_type": "execute_result",
          "data": {
            "text/plain": [
              "   labels                                               text\n",
              "0       0  awww thats a bummer  you shoulda got david car...\n",
              "1       0  is upset that he cant update his facebook by t...\n",
              "2       0  i dived many times for the ball managed to sav...\n",
              "3       0     my whole body feels itchy and like its on fire\n",
              "4       0  no its not behaving at all im mad why am i her..."
            ],
            "text/html": [
              "\n",
              "  <div id=\"df-e6901cc2-4c12-4c83-806f-885dd8a421b3\">\n",
              "    <div class=\"colab-df-container\">\n",
              "      <div>\n",
              "<style scoped>\n",
              "    .dataframe tbody tr th:only-of-type {\n",
              "        vertical-align: middle;\n",
              "    }\n",
              "\n",
              "    .dataframe tbody tr th {\n",
              "        vertical-align: top;\n",
              "    }\n",
              "\n",
              "    .dataframe thead th {\n",
              "        text-align: right;\n",
              "    }\n",
              "</style>\n",
              "<table border=\"1\" class=\"dataframe\">\n",
              "  <thead>\n",
              "    <tr style=\"text-align: right;\">\n",
              "      <th></th>\n",
              "      <th>labels</th>\n",
              "      <th>text</th>\n",
              "    </tr>\n",
              "  </thead>\n",
              "  <tbody>\n",
              "    <tr>\n",
              "      <th>0</th>\n",
              "      <td>0</td>\n",
              "      <td>awww thats a bummer  you shoulda got david car...</td>\n",
              "    </tr>\n",
              "    <tr>\n",
              "      <th>1</th>\n",
              "      <td>0</td>\n",
              "      <td>is upset that he cant update his facebook by t...</td>\n",
              "    </tr>\n",
              "    <tr>\n",
              "      <th>2</th>\n",
              "      <td>0</td>\n",
              "      <td>i dived many times for the ball managed to sav...</td>\n",
              "    </tr>\n",
              "    <tr>\n",
              "      <th>3</th>\n",
              "      <td>0</td>\n",
              "      <td>my whole body feels itchy and like its on fire</td>\n",
              "    </tr>\n",
              "    <tr>\n",
              "      <th>4</th>\n",
              "      <td>0</td>\n",
              "      <td>no its not behaving at all im mad why am i her...</td>\n",
              "    </tr>\n",
              "  </tbody>\n",
              "</table>\n",
              "</div>\n",
              "      <button class=\"colab-df-convert\" onclick=\"convertToInteractive('df-e6901cc2-4c12-4c83-806f-885dd8a421b3')\"\n",
              "              title=\"Convert this dataframe to an interactive table.\"\n",
              "              style=\"display:none;\">\n",
              "        \n",
              "  <svg xmlns=\"http://www.w3.org/2000/svg\" height=\"24px\"viewBox=\"0 0 24 24\"\n",
              "       width=\"24px\">\n",
              "    <path d=\"M0 0h24v24H0V0z\" fill=\"none\"/>\n",
              "    <path d=\"M18.56 5.44l.94 2.06.94-2.06 2.06-.94-2.06-.94-.94-2.06-.94 2.06-2.06.94zm-11 1L8.5 8.5l.94-2.06 2.06-.94-2.06-.94L8.5 2.5l-.94 2.06-2.06.94zm10 10l.94 2.06.94-2.06 2.06-.94-2.06-.94-.94-2.06-.94 2.06-2.06.94z\"/><path d=\"M17.41 7.96l-1.37-1.37c-.4-.4-.92-.59-1.43-.59-.52 0-1.04.2-1.43.59L10.3 9.45l-7.72 7.72c-.78.78-.78 2.05 0 2.83L4 21.41c.39.39.9.59 1.41.59.51 0 1.02-.2 1.41-.59l7.78-7.78 2.81-2.81c.8-.78.8-2.07 0-2.86zM5.41 20L4 18.59l7.72-7.72 1.47 1.35L5.41 20z\"/>\n",
              "  </svg>\n",
              "      </button>\n",
              "      \n",
              "  <style>\n",
              "    .colab-df-container {\n",
              "      display:flex;\n",
              "      flex-wrap:wrap;\n",
              "      gap: 12px;\n",
              "    }\n",
              "\n",
              "    .colab-df-convert {\n",
              "      background-color: #E8F0FE;\n",
              "      border: none;\n",
              "      border-radius: 50%;\n",
              "      cursor: pointer;\n",
              "      display: none;\n",
              "      fill: #1967D2;\n",
              "      height: 32px;\n",
              "      padding: 0 0 0 0;\n",
              "      width: 32px;\n",
              "    }\n",
              "\n",
              "    .colab-df-convert:hover {\n",
              "      background-color: #E2EBFA;\n",
              "      box-shadow: 0px 1px 2px rgba(60, 64, 67, 0.3), 0px 1px 3px 1px rgba(60, 64, 67, 0.15);\n",
              "      fill: #174EA6;\n",
              "    }\n",
              "\n",
              "    [theme=dark] .colab-df-convert {\n",
              "      background-color: #3B4455;\n",
              "      fill: #D2E3FC;\n",
              "    }\n",
              "\n",
              "    [theme=dark] .colab-df-convert:hover {\n",
              "      background-color: #434B5C;\n",
              "      box-shadow: 0px 1px 3px 1px rgba(0, 0, 0, 0.15);\n",
              "      filter: drop-shadow(0px 1px 2px rgba(0, 0, 0, 0.3));\n",
              "      fill: #FFFFFF;\n",
              "    }\n",
              "  </style>\n",
              "\n",
              "      <script>\n",
              "        const buttonEl =\n",
              "          document.querySelector('#df-e6901cc2-4c12-4c83-806f-885dd8a421b3 button.colab-df-convert');\n",
              "        buttonEl.style.display =\n",
              "          google.colab.kernel.accessAllowed ? 'block' : 'none';\n",
              "\n",
              "        async function convertToInteractive(key) {\n",
              "          const element = document.querySelector('#df-e6901cc2-4c12-4c83-806f-885dd8a421b3');\n",
              "          const dataTable =\n",
              "            await google.colab.kernel.invokeFunction('convertToInteractive',\n",
              "                                                     [key], {});\n",
              "          if (!dataTable) return;\n",
              "\n",
              "          const docLinkHtml = 'Like what you see? Visit the ' +\n",
              "            '<a target=\"_blank\" href=https://colab.research.google.com/notebooks/data_table.ipynb>data table notebook</a>'\n",
              "            + ' to learn more about interactive tables.';\n",
              "          element.innerHTML = '';\n",
              "          dataTable['output_type'] = 'display_data';\n",
              "          await google.colab.output.renderOutput(dataTable, element);\n",
              "          const docLink = document.createElement('div');\n",
              "          docLink.innerHTML = docLinkHtml;\n",
              "          element.appendChild(docLink);\n",
              "        }\n",
              "      </script>\n",
              "    </div>\n",
              "  </div>\n",
              "  "
            ]
          },
          "metadata": {},
          "execution_count": 19
        }
      ],
      "source": [
        "df.head()"
      ]
    },
    {
      "cell_type": "code",
      "execution_count": 12,
      "metadata": {
        "id": "OpWquroCB0DE"
      },
      "outputs": [],
      "source": [
        "# I use the sklearn.feature_extraction.text.CountVectorizer method to create a vocabulary \n",
        "# out of the corpus and use it to build our feature vectors. The featue vectors, in this case\n",
        "# will be sparse ones, with dimensions correspondant to the size of the vocabulary and a 1\n",
        "# in correspondance of and occuring word. This is a Bag of Words model, still I don't take \n",
        "# into account the order of the words, rather just their occurence.\n",
        "\n",
        "\n",
        "# I set a threshold to exclude non frequent words. Words with frequency below the min_df\n",
        "# threshold will not be considered in building the vocabulary.\n",
        "min_df = 0 #10e-6\n",
        "\n",
        "# I procede to set the language in order to remove stopwords.\n",
        "stop_words ='english'\n",
        "\n",
        "# I build the vocabulary on the train data, in order to maintain generality and independence\n",
        "# towards the test set, namely, as the test set could be any one, it doesn't make sense to \n",
        "# use it to build our vocabulary.\n",
        "vectorizerr = CountVectorizer(min_df = min_df, stop_words = stop_words)\n",
        "vectorizerr.fit(sentences_train)\n",
        "\n",
        "# I procede to transform sentences into the feature vector representation. \n",
        "x_train = vectorizerr.transform(sentences_train)\n",
        "x_test = vectorizerr.transform(sentences_test)"
      ]
    },
    {
      "cell_type": "code",
      "execution_count": 21,
      "metadata": {
        "id": "8fwnb8O86Lnw",
        "colab": {
          "base_uri": "https://localhost:8080/"
        },
        "outputId": "5eb98f47-de62-4256-ab74-6e8c2c455c01"
      },
      "outputs": [
        {
          "output_type": "stream",
          "name": "stdout",
          "text": [
            "The so build vocabulary has 361997 unique words\n"
          ]
        }
      ],
      "source": [
        "# The vocabulary has almost 360k unique words, which is a lot given that modern english has\n",
        "# 170k words in current use, of which just 40k are of daily use. This could be explained by\n",
        "# the fact that on twitter there's an extensive use of gergon, which can be really coloured \n",
        "# diverse and personal, also the possible typos and contractions have to be taken into account.\n",
        "# For the moment let's see if from such a representation of data we can still train an\n",
        "# effective model.\n",
        "\n",
        "vocabulary = vectorizerr.vocabulary_\n",
        "print('The so build vocabulary has {} unique words'.format(len(vocabulary.keys())))"
      ]
    },
    {
      "cell_type": "code",
      "execution_count": 22,
      "metadata": {
        "id": "--Ie62RL0o43"
      },
      "outputs": [],
      "source": [
        "# In this cell the scaling of the data is defined. This is done in an attempt to \n",
        "# improve Logistic Regression performances by scaling data values on a given range.\n",
        "# The attempt resulted in worst results wrt the not scaled version, although the model\n",
        "# does not converge, thus I just let a commented version for the record.\n",
        "\n",
        "\n",
        "#from sklearn import preprocessing\n",
        "\n",
        "#scaler = preprocessing.StandardScaler(with_mean=False).fit(x_train)\n",
        "#x_scaled = scaler.transform(x_train)"
      ]
    },
    {
      "cell_type": "code",
      "execution_count": 23,
      "metadata": {
        "id": "frb9K9NTyfM2",
        "colab": {
          "base_uri": "https://localhost:8080/"
        },
        "outputId": "4fa6c2ab-0834-4977-f402-9eb29a8893ed"
      },
      "outputs": [
        {
          "output_type": "stream",
          "name": "stderr",
          "text": [
            "/usr/local/lib/python3.7/dist-packages/sklearn/linear_model/_sag.py:354: ConvergenceWarning: The max_iter was reached which means the coef_ did not converge\n",
            "  ConvergenceWarning,\n"
          ]
        },
        {
          "output_type": "execute_result",
          "data": {
            "text/plain": [
              "LogisticRegression(max_iter=300, solver='saga')"
            ]
          },
          "metadata": {},
          "execution_count": 23
        }
      ],
      "source": [
        "# I defining a base line model using logistic regression. Saga is used as a solver \n",
        "# and max_iter is set to 300 to improve accuracy. Althoug the model does not converge, \n",
        "# despite several attempts with different solvers, optimizers and to scale data, \n",
        "# it still reaches 0.78 accuracy, which is not bad.\n",
        "\n",
        "from sklearn.linear_model import LogisticRegression\n",
        " \n",
        "classifier = LogisticRegression(max_iter = 300, solver = 'saga')\n",
        "classifier.fit(x_train, labels_train)\n",
        " "
      ]
    },
    {
      "cell_type": "code",
      "execution_count": 24,
      "metadata": {
        "id": "I-ORH-0BDDK1",
        "colab": {
          "base_uri": "https://localhost:8080/",
          "height": 464
        },
        "outputId": "9845bea3-f301-4824-fc79-c99f35772fdb"
      },
      "outputs": [
        {
          "output_type": "stream",
          "name": "stdout",
          "text": [
            "              precision    recall  f1-score   support\n",
            "\n",
            "           0       0.79      0.75      0.77    199581\n",
            "           1       0.76      0.80      0.78    200419\n",
            "\n",
            "    accuracy                           0.78    400000\n",
            "   macro avg       0.78      0.78      0.78    400000\n",
            "weighted avg       0.78      0.78      0.78    400000\n",
            "\n"
          ]
        },
        {
          "output_type": "execute_result",
          "data": {
            "text/plain": [
              "<sklearn.metrics._plot.confusion_matrix.ConfusionMatrixDisplay at 0x7f90ee1f68d0>"
            ]
          },
          "metadata": {},
          "execution_count": 24
        },
        {
          "output_type": "display_data",
          "data": {
            "text/plain": [
              "<Figure size 432x288 with 2 Axes>"
            ],
            "image/png": "[encoded data removed]"
          },
          "metadata": {
            "needs_background": "light"
          }
        }
      ],
      "source": [
        "# I print the classification report and the confusion matrix to make sense of the results.\n",
        "\n",
        "\n",
        "predicted_labels_rm = classifier.predict(x_test)\n",
        "\n",
        "print(classification_report(labels_test, predicted_labels_rm))\n",
        "ConfusionMatrixDisplay.from_predictions(labels_test, predicted_labels_rm)"
      ]
    },
    {
      "cell_type": "markdown",
      "metadata": {
        "id": "JcW84IdU4stz"
      },
      "source": [
        "#Improvin Baseline using NNs"
      ]
    },
    {
      "cell_type": "code",
      "execution_count": 12,
      "metadata": {
        "id": "7i9DVRj0OkBM"
      },
      "outputs": [],
      "source": [
        "# First thing, I define a function to find best threshold and best f1-score based on precision-recall curves.\n",
        "\n",
        "def best_threshold(true_values, predicted_values):\n",
        "\n",
        "  #calculate precision, recall and thresholds arrays using precision_recall_curve()\n",
        "  precision, recall, thresholds = precision_recall_curve(true_values, predicted_values)\n",
        "\n",
        "  #build an array of f1-scores calculated using precision and recall\n",
        "  fscore = (2 * precision * recall) / (precision + recall)\n",
        "\n",
        "  # find the best threshold as the threshold that maximizes f-1 score\n",
        "  ix = argmax(fscore)\n",
        "  best = thresholds[ix]\n",
        "  print('Best Threshold={}'.format(thresholds[ix]))\n",
        "\n",
        "  return best"
      ]
    },
    {
      "cell_type": "code",
      "execution_count": 15,
      "metadata": {
        "id": "gsk-RciB5O_1"
      },
      "outputs": [],
      "source": [
        "import keras\n",
        "\n",
        "x_train.shape[1]\n",
        "keras.backend.clear_session()"
      ]
    },
    {
      "cell_type": "code",
      "execution_count": 28,
      "metadata": {
        "id": "7xbt3MPHDJv9",
        "colab": {
          "base_uri": "https://localhost:8080/"
        },
        "outputId": "1017e04d-59ad-4ee3-efe9-49a42a003edc"
      },
      "outputs": [
        {
          "output_type": "execute_result",
          "data": {
            "text/plain": [
              "361997"
            ]
          },
          "metadata": {},
          "execution_count": 28
        }
      ],
      "source": [
        "x_train.shape[1]"
      ]
    },
    {
      "cell_type": "code",
      "execution_count": 29,
      "metadata": {
        "id": "ay9nWSbEAb33",
        "colab": {
          "base_uri": "https://localhost:8080/"
        },
        "outputId": "68721421-eaac-4aec-d0c1-3439f92748c7"
      },
      "outputs": [
        {
          "output_type": "stream",
          "name": "stdout",
          "text": [
            "Model: \"model\"\n",
            "_________________________________________________________________\n",
            " Layer (type)                Output Shape              Param #   \n",
            "=================================================================\n",
            " input_1 (InputLayer)        [(None, 361997)]          0         \n",
            "                                                                 \n",
            " dense (Dense)               (None, 10)                3619980   \n",
            "                                                                 \n",
            " dense_1 (Dense)             (None, 1)                 11        \n",
            "                                                                 \n",
            "=================================================================\n",
            "Total params: 3,619,991\n",
            "Trainable params: 3,619,991\n",
            "Non-trainable params: 0\n",
            "_________________________________________________________________\n"
          ]
        }
      ],
      "source": [
        "# I now procede to define a basic NN architecture for processing the feature vectors.\n",
        "from keras.layers import Dropout, MultiHeadAttention\n",
        "\n",
        "# First I set the input dimension for the model.\n",
        "input_dim = x_train.shape[1]  \n",
        "\n",
        "# I set the architecture of the model using the keras functional API\n",
        "input_layer = Input(shape=(input_dim))\n",
        "layer_1 = Dense(10, activation = 'relu')(input_layer)\n",
        "layer_2 = Dropout(0.3)(layer_1)\n",
        "output_layer= Dense(1, activation = 'sigmoid')(layer_2)\n",
        "\n",
        "model_1 = Model(inputs = input_layer, outputs = output_layer)\n",
        "\n",
        "# Then I compile the model and display a very brief summary.\n",
        "model_1.compile(optimizer = 'adam', loss = 'binary_crossentropy')\n",
        "model_1.summary()"
      ]
    },
    {
      "cell_type": "code",
      "execution_count": 30,
      "metadata": {
        "id": "y6goBeCId0wU",
        "colab": {
          "base_uri": "https://localhost:8080/"
        },
        "outputId": "80e637dd-7a96-4ce6-c109-992a18f1ee3a"
      },
      "outputs": [
        {
          "output_type": "stream",
          "name": "stderr",
          "text": [
            "/usr/local/lib/python3.7/dist-packages/tensorflow/python/framework/indexed_slices.py:446: UserWarning: Converting sparse IndexedSlices(IndexedSlices(indices=Tensor(\"gradient_tape/model/dense/embedding_lookup_sparse/Reshape_1:0\", shape=(None,), dtype=int32), values=Tensor(\"gradient_tape/model/dense/embedding_lookup_sparse/Reshape:0\", shape=(None, 10), dtype=float32), dense_shape=Tensor(\"gradient_tape/model/dense/embedding_lookup_sparse/Cast:0\", shape=(2,), dtype=int32))) to a dense Tensor of unknown shape. This may consume a large amount of memory.\n",
            "  \"shape. This may consume a large amount of memory.\" % value)\n"
          ]
        }
      ],
      "source": [
        "history = model_1_fit = model_1.fit(x_train, labels_train, epochs=5, verbose=False, batch_size=50)"
      ]
    },
    {
      "cell_type": "code",
      "execution_count": 31,
      "metadata": {
        "id": "xWbBD4Ly1BoA",
        "colab": {
          "base_uri": "https://localhost:8080/",
          "height": 480
        },
        "outputId": "e3b44112-d1e5-46f1-8337-6775673cf12c"
      },
      "outputs": [
        {
          "output_type": "stream",
          "name": "stdout",
          "text": [
            "Best Threshold=0.3921452462673187\n",
            "              precision    recall  f1-score   support\n",
            "\n",
            "           0       0.82      0.69      0.75    199581\n",
            "           1       0.73      0.85      0.79    200419\n",
            "\n",
            "    accuracy                           0.77    400000\n",
            "   macro avg       0.78      0.77      0.77    400000\n",
            "weighted avg       0.78      0.77      0.77    400000\n",
            "\n"
          ]
        },
        {
          "output_type": "execute_result",
          "data": {
            "text/plain": [
              "<sklearn.metrics._plot.confusion_matrix.ConfusionMatrixDisplay at 0x7f90d8b1f050>"
            ]
          },
          "metadata": {},
          "execution_count": 31
        },
        {
          "output_type": "display_data",
          "data": {
            "text/plain": [
              "<Figure size 432x288 with 2 Axes>"
            ],
            "image/png": "[encoded data removed]"
          },
          "metadata": {
            "needs_background": "light"
          }
        }
      ],
      "source": [
        "# As the model provides the results as probabilities in the range [0,1], I select a threshold for rounding using a\n",
        "# custom algorithm based on precision-recall curves and f1 score.\n",
        "predicted_values = model_1.predict(x_test)\n",
        "best = best_threshold(labels_test, predicted_values)\n",
        "\n",
        "# One the threshold is selected, labels are rounded accordingly.\n",
        "predicted_values_best_1 = [1 if i > best else 0 for i in predicted_values]\n",
        "\n",
        "\n",
        "# As a final step, we print the classification report, along with the confusion matrix.\n",
        "print(classification_report(labels_test, predicted_values_best_1))\n",
        "ConfusionMatrixDisplay.from_predictions(labels_test, predicted_values_best_1)"
      ]
    },
    {
      "cell_type": "markdown",
      "metadata": {
        "id": "4hlwVlFajZgX"
      },
      "source": [
        "#Further improving through the use of GloVe embeddings and self-attention"
      ]
    },
    {
      "cell_type": "markdown",
      "metadata": {
        "id": "m_XBlD7wEubA"
      },
      "source": [
        "From now on lets try to use GloVe embeddings to bettet capture the meaning of each world."
      ]
    },
    {
      "cell_type": "code",
      "execution_count": 13,
      "metadata": {
        "id": "MRQd6LntEzno"
      },
      "outputs": [],
      "source": [
        "# To prepare my data for the embedding procedure, I first tokenize each tweet.\n",
        "\n",
        "\n",
        "from keras.preprocessing.text import Tokenizer\n",
        "\n",
        "tokenizer = Tokenizer(num_words=None)\n",
        "tokenizer.fit_on_texts(sentences_train)\n",
        "\n",
        "x_train = tokenizer.texts_to_sequences(sentences_train)\n",
        "x_test = tokenizer.texts_to_sequences(sentences_test)\n",
        "\n",
        "\n",
        "vocab_size = len(tokenizer.word_index) + 1  "
      ]
    },
    {
      "cell_type": "code",
      "execution_count": 33,
      "metadata": {
        "id": "g8IVtEUXFumw",
        "colab": {
          "base_uri": "https://localhost:8080/"
        },
        "outputId": "e8521f15-5c9a-4409-bc89-3b0b25758313"
      },
      "outputs": [
        {
          "output_type": "stream",
          "name": "stdout",
          "text": [
            "362345\n",
            "ight i let they lil white boy know hahaha\n",
            "[15597, 1, 229, 87, 661, 837, 525, 57, 393]\n"
          ]
        }
      ],
      "source": [
        "print(vocab_size)\n",
        "print(sentences_train[2])\n",
        "print(x_train[2])"
      ]
    },
    {
      "cell_type": "code",
      "execution_count": 14,
      "metadata": {
        "id": "aihhtWUmizH7",
        "colab": {
          "base_uri": "https://localhost:8080/"
        },
        "outputId": "6ffaf848-fb93-4fc7-a39c-eeedba725a68"
      },
      "outputs": [
        {
          "output_type": "stream",
          "name": "stdout",
          "text": [
            "[==================================================] 100.0% 376.1/376.1MB downloaded\n"
          ]
        }
      ],
      "source": [
        "import numpy as np\n",
        "import gensim.downloader as gloader\n",
        "\n",
        "glove_model = gloader.load('glove-wiki-gigaword-300')\n",
        "\n",
        "\n",
        "# I create a custom function to build the embedding matrix on the corpus that I'm using.              \n",
        "def create_embedding_matrix(glove_model, embedding_dimension, word2idx):\n",
        "\n",
        "  vocabulary_size = len(word2idx) + 1\n",
        "  embedding_matrix = np.zeros((vocabulary_size, embedding_dimension), dtype = np.float32) \n",
        "  for word, idx in word2idx.items():\n",
        "    try:\n",
        "      embedding_vector = glove_model[word]\n",
        "    except(KeyError, TypeError):\n",
        "      # Out of vovabulary words are embedded using a vector sampled from a random uniform distribution.\n",
        "      embedding_vector = np.random.uniform(low = -0.1, high = 0.1, size = embedding_dimension)\n",
        "    embedding_matrix[idx] = embedding_vector\n",
        "  return embedding_matrix"
      ]
    },
    {
      "cell_type": "code",
      "execution_count": 15,
      "metadata": {
        "id": "EvzwQyMHk11w"
      },
      "outputs": [],
      "source": [
        "embedding_dim = 300\n",
        "embedding_matrix = create_embedding_matrix(glove_model, embedding_dim, tokenizer.word_index)"
      ]
    },
    {
      "cell_type": "code",
      "execution_count": 36,
      "metadata": {
        "id": "r1pxevgPHmP7"
      },
      "outputs": [],
      "source": [
        "# In order to feed data with a coherent lenght to NN, I procede to pad.\n",
        "\n",
        "from keras_preprocessing.sequence import pad_sequences\n",
        "\n",
        "# I select the maxlen in an empirical way, i.e. \n",
        "maxlen = 40\n",
        "\n",
        "x_train = pad_sequences(x_train, padding = 'post', maxlen = maxlen)\n",
        "x_test = pad_sequences(x_test, padding = 'post', maxlen = maxlen)"
      ]
    },
    {
      "cell_type": "code",
      "execution_count": 40,
      "metadata": {
        "id": "apVdGMXT5tx7"
      },
      "outputs": [],
      "source": [
        "import keras\n",
        "\n",
        "keras.backend.clear_session()"
      ]
    },
    {
      "cell_type": "code",
      "execution_count": 41,
      "metadata": {
        "id": "mDTEgNm738sd",
        "colab": {
          "base_uri": "https://localhost:8080/"
        },
        "outputId": "a304e7e1-4419-4c15-cb92-72b08bc7d857"
      },
      "outputs": [
        {
          "output_type": "stream",
          "name": "stdout",
          "text": [
            "Model: \"model\"\n",
            "__________________________________________________________________________________________________\n",
            " Layer (type)                   Output Shape         Param #     Connected to                     \n",
            "==================================================================================================\n",
            " input_1 (InputLayer)           [(None, 40)]         0           []                               \n",
            "                                                                                                  \n",
            " embedding (Embedding)          (None, 40, 300)      108703500   ['input_1[0][0]']                \n",
            "                                                                                                  \n",
            " multi_head_attention (MultiHea  (None, 40, 300)     154284      ['embedding[0][0]',              \n",
            " dAttention)                                                      'embedding[0][0]']              \n",
            "                                                                                                  \n",
            " global_average_pooling1d (Glob  (None, 300)         0           ['multi_head_attention[0][0]']   \n",
            " alAveragePooling1D)                                                                              \n",
            "                                                                                                  \n",
            " dense (Dense)                  (None, 10)           3010        ['global_average_pooling1d[0][0]'\n",
            "                                                                 ]                                \n",
            "                                                                                                  \n",
            " dropout (Dropout)              (None, 10)           0           ['dense[0][0]']                  \n",
            "                                                                                                  \n",
            " dense_1 (Dense)                (None, 1)            11          ['dropout[0][0]']                \n",
            "                                                                                                  \n",
            "==================================================================================================\n",
            "Total params: 108,860,805\n",
            "Trainable params: 108,860,805\n",
            "Non-trainable params: 0\n",
            "__________________________________________________________________________________________________\n"
          ]
        }
      ],
      "source": [
        "input_dim = x_train.shape[1] \n",
        "\n",
        "# I now procede to define a basic NN architecture for processing the feature vectors.\n",
        "from keras.layers import Dropout, MultiHeadAttention, Embedding, GlobalAveragePooling1D, Bidirectional, LSTM\n",
        "\n",
        "# First I set the input dimension for the model.\n",
        "input_dim = x_train.shape[1]  \n",
        "\n",
        "# I set the architecture of the model using the keras functional API\n",
        "input_layer = Input(shape=(input_dim,))\n",
        "embedding = Embedding(vocab_size, embedding_dim, weights=[embedding_matrix], input_length = maxlen, mask_zero = True)(input_layer)\n",
        "\n",
        "#lstm_layer = Bidirectional(LSTM(64,dropout=0.2))(embedding)\n",
        "attention = MultiHeadAttention(8,16)(query = embedding, value = embedding)\n",
        "pooling = GlobalAveragePooling1D()(attention)\n",
        "layer_1 = Dense(10, activation = 'relu')(pooling)\n",
        "layer_2 = Dropout(0.5)(layer_1)\n",
        "output_layer= Dense(1, activation = 'sigmoid')(layer_2)\n",
        "model_2 = Model(inputs = input_layer, outputs = output_layer)\n",
        "\n",
        "model_2.compile(optimizer = 'adam', loss = 'binary_crossentropy')\n",
        "model_2.summary()"
      ]
    },
    {
      "cell_type": "code",
      "execution_count": 42,
      "metadata": {
        "id": "yJ7flk2TrSz2"
      },
      "outputs": [],
      "source": [
        "model_2_fit = model_2.fit(x_train, labels_train, epochs=2, verbose=False, validation_split = 0.15, batch_size=50)\n"
      ]
    },
    {
      "cell_type": "code",
      "execution_count": null,
      "metadata": {
        "id": "pW4ziNC5WAED"
      },
      "outputs": [],
      "source": [
        "raise Exception('ciao')"
      ]
    },
    {
      "cell_type": "code",
      "execution_count": 43,
      "metadata": {
        "id": "-e24_Zwbt32m",
        "colab": {
          "base_uri": "https://localhost:8080/",
          "height": 480
        },
        "outputId": "f365d315-2702-49b9-b4bc-d2e5a31f5ca5"
      },
      "outputs": [
        {
          "output_type": "stream",
          "name": "stdout",
          "text": [
            "Best Threshold=0.4505065083503723\n",
            "              precision    recall  f1-score   support\n",
            "\n",
            "           0       0.83      0.76      0.79    199581\n",
            "           1       0.78      0.84      0.81    200419\n",
            "\n",
            "    accuracy                           0.80    400000\n",
            "   macro avg       0.80      0.80      0.80    400000\n",
            "weighted avg       0.80      0.80      0.80    400000\n",
            "\n"
          ]
        },
        {
          "output_type": "execute_result",
          "data": {
            "text/plain": [
              "<sklearn.metrics._plot.confusion_matrix.ConfusionMatrixDisplay at 0x7f916d5c1210>"
            ]
          },
          "metadata": {},
          "execution_count": 43
        },
        {
          "output_type": "display_data",
          "data": {
            "text/plain": [
              "<Figure size 432x288 with 2 Axes>"
            ],
            "image/png": "[encoded data removed]"
          },
          "metadata": {
            "needs_background": "light"
          }
        }
      ],
      "source": [
        "# As the model provides the results as probabilities in the range [0,1], I select a threshold for rounding using a\n",
        "# custom algorithm based on precision-recall curves and f1 score.\n",
        "predicted_values = model_2.predict(x_test)\n",
        "best = best_threshold(labels_test, predicted_values)\n",
        "\n",
        "# One the threshold is selected, labels are rounded accordingly.\n",
        "predicted_values_best_2 = [1 if i > best else 0 for i in predicted_values]\n",
        "\n",
        "\n",
        "# As a final step, we print the classification report, along with the confusion matrix.\n",
        "print(classification_report(labels_test, predicted_values_best_2))\n",
        "ConfusionMatrixDisplay.from_predictions(labels_test, predicted_values_best_2)"
      ]
    },
    {
      "cell_type": "markdown",
      "metadata": {
        "id": "1XWfxPfDbBOQ"
      },
      "source": [
        "#Topic Modelling"
      ]
    },
    {
      "cell_type": "markdown",
      "source": [
        "My goal in this section is to extract a list of 10 topics from the corpus and assign them to each sentence according to cosine similarity.\n",
        "\n",
        "To extract topics, I use Latend Dirichlet Allocation (LDA) a popular tool for topic modelling in NLP. Each topic is given as a set of 10 words with correspondant wheights, which tell how relevant a word is wrt to the topic. Then, for each topic I embedd the consitutent words using GloVe embeddings. Next, I perform the dot product of the embedded words and their wheigts to obtain and averege vector to be used for cosine similarity. I procede embedding the words of each sentence in our corpus and summing them to obtain also an average vector for each tweet. \n",
        "\n",
        "The final step is to assing a label to each tweet. To do so, I perform a cosine similarity between tweet embeddings and topic embeddings, selecting as labels the ones that have the highest score."
      ],
      "metadata": {
        "id": "BVTA6TsOCACh"
      }
    },
    {
      "cell_type": "code",
      "execution_count": 16,
      "metadata": {
        "id": "Svmcy4slkx09"
      },
      "outputs": [],
      "source": [
        "df_tk = df.copy(deep=True)"
      ]
    },
    {
      "cell_type": "code",
      "execution_count": 17,
      "metadata": {
        "id": "jB_QMHVdk7YY",
        "colab": {
          "base_uri": "https://localhost:8080/"
        },
        "outputId": "f52f14e3-ffb9-4a4c-a3ae-c25dff4b9100"
      },
      "outputs": [
        {
          "output_type": "stream",
          "name": "stderr",
          "text": [
            "[nltk_data] Downloading package stopwords to /root/nltk_data...\n",
            "[nltk_data]   Unzipping corpora/stopwords.zip.\n"
          ]
        }
      ],
      "source": [
        "# The first step is to get rid of stopwords and short words that can't be really useful in defining a label and that could interfer with our results.\n",
        "\n",
        "nltk.download('stopwords')\n",
        "from nltk.corpus import stopwords\n",
        "stop_words = stopwords.words('english')\n",
        "\n",
        "# I get rid of stopwords and words shorter than 3 characters, then I tokenike each tweet using wordpunct_tokenize.\n",
        "df_tk['text'] = df_tk['text'].apply(lambda x: ' '.join([word for word in x.split() if word not in (stop_words) if len(word)>3]))\n",
        "df_tk['text'] = df_tk['text'].apply(wordpunct_tokenize)"
      ]
    },
    {
      "cell_type": "code",
      "execution_count": 35,
      "metadata": {
        "id": "O3m87G7TlAX6"
      },
      "outputs": [],
      "source": [
        "# In the previous experiments, stopwords were not deleted in order to better exploit semantical meaning in the self-attention layer of the last architecture. In this one I had deleted them because given their large\n",
        "# frequency in text, they could be mistaken as topics. However, the embedding matrix I defined before was built on the sole fraction of data dedicated to training. Thus, I split again my dataset using the same\n",
        "# random seed in order to have the same train set and use it for my topic modelling experiment.\n",
        "\n",
        "# In order to use the embedding_matrix built on the train set, I split my data also in train set, using the same random_state in order to get the same tweets in this train set. \n",
        "\n",
        "sentences_un = df_tk['text'].values\n",
        "sentences_tk, _, labels_tk, _ = train_test_split(sentences_un, labels, test_size=0.25, random_state=42)"
      ]
    },
    {
      "cell_type": "code",
      "source": [
        "# In order to make the LDA model work, I need to properly format my input data.\n",
        "\n",
        "import gensim\n",
        "\n",
        "# I build a dictionary to be used as id2word indexes in the LDA model.\n",
        "dictionary = gensim.corpora.Dictionary(sentences_tk)\n",
        "\n",
        "# I filter dictionry values to avoid non significant values.\n",
        "dictionary.filter_extremes(no_below=15, no_above=0.5, keep_n=100000)\n",
        "\n",
        "# I finally build a bag of words out of the terms in the dictionary.\n",
        "bow_corpus = bow_corpus = [dictionary.doc2bow(doc) for doc in sentences_tk]"
      ],
      "metadata": {
        "id": "CHD19Pfw8NdG"
      },
      "execution_count": 19,
      "outputs": []
    },
    {
      "cell_type": "code",
      "source": [
        "# I train the genism LDA model in order to obtain a list of 10 topics.\n",
        "\n",
        "lda_model = gensim.models.LdaMulticore(bow_corpus, num_topics=10, id2word=dictionary, passes=2, workers=4)\n",
        "\n",
        "# I display the list of 10 words that make up each one of the ten topics, alonf with the respective wheigt.\n",
        "for idx, topic in lda_model.print_topics(-1):\n",
        "    print('Topic: {} Word: {}'.format(idx, topic))"
      ],
      "metadata": {
        "id": "HJKnHga2L9uq",
        "colab": {
          "base_uri": "https://localhost:8080/"
        },
        "outputId": "64a3f47e-9645-4d97-c497-caa8e755d044"
      },
      "execution_count": 20,
      "outputs": [
        {
          "output_type": "stream",
          "name": "stdout",
          "text": [
            "Topic: 0 Word: 0.047*\"thanks\" + 0.035*\"much\" + 0.035*\"want\" + 0.029*\"come\" + 0.029*\"feel\" + 0.023*\"like\" + 0.017*\"please\" + 0.016*\"really\" + 0.016*\"love\" + 0.016*\"made\"\n",
            "Topic: 1 Word: 0.089*\"cant\" + 0.031*\"wait\" + 0.015*\"sleep\" + 0.014*\"find\" + 0.014*\"watch\" + 0.014*\"song\" + 0.012*\"friday\" + 0.010*\"believe\" + 0.009*\"iphone\" + 0.009*\"game\"\n",
            "Topic: 2 Word: 0.044*\"still\" + 0.024*\"today\" + 0.020*\"sick\" + 0.019*\"feeling\" + 0.014*\"bored\" + 0.013*\"need\" + 0.012*\"like\" + 0.011*\"really\" + 0.011*\"head\" + 0.010*\"nothing\"\n",
            "Topic: 3 Word: 0.099*\"good\" + 0.040*\"night\" + 0.040*\"miss\" + 0.037*\"morning\" + 0.025*\"last\" + 0.012*\"like\" + 0.012*\"havent\" + 0.011*\"great\" + 0.010*\"time\" + 0.009*\"sounds\"\n",
            "Topic: 4 Word: 0.052*\"work\" + 0.032*\"back\" + 0.031*\"going\" + 0.027*\"tomorrow\" + 0.023*\"time\" + 0.020*\"home\" + 0.018*\"today\" + 0.017*\"week\" + 0.016*\"school\" + 0.015*\"next\"\n",
            "Topic: 5 Word: 0.039*\"wish\" + 0.036*\"would\" + 0.030*\"could\" + 0.029*\"love\" + 0.012*\"phone\" + 0.010*\"totally\" + 0.009*\"going\" + 0.008*\"time\" + 0.008*\"wasnt\" + 0.008*\"hello\"\n",
            "Topic: 6 Word: 0.029*\"watching\" + 0.022*\"awesome\" + 0.016*\"movie\" + 0.014*\"keep\" + 0.013*\"love\" + 0.012*\"cool\" + 0.011*\"show\" + 0.009*\"stupid\" + 0.007*\"watch\" + 0.007*\"funny\"\n",
            "Topic: 7 Word: 0.025*\"thank\" + 0.025*\"sorry\" + 0.016*\"sucks\" + 0.015*\"rain\" + 0.013*\"getting\" + 0.013*\"hear\" + 0.012*\"cold\" + 0.011*\"weather\" + 0.010*\"listening\" + 0.009*\"enjoy\"\n",
            "Topic: 8 Word: 0.048*\"dont\" + 0.045*\"know\" + 0.023*\"happy\" + 0.018*\"like\" + 0.016*\"think\" + 0.015*\"youre\" + 0.014*\"twitter\" + 0.013*\"didnt\" + 0.013*\"well\" + 0.012*\"hope\"\n",
            "Topic: 9 Word: 0.028*\"hate\" + 0.027*\"days\" + 0.023*\"best\" + 0.017*\"ever\" + 0.012*\"away\" + 0.011*\"missing\" + 0.011*\"cute\" + 0.009*\"everyone\" + 0.009*\"world\" + 0.008*\"like\"\n"
          ]
        }
      ]
    },
    {
      "cell_type": "code",
      "source": [
        "# In order to prepare data for cosine similarity, I first procede to build a dictionary containing the number of the topic along with the average vectore of the topic words embedded through GloVe embeddings.\n",
        "\n",
        "\n",
        "# First I get the words ids using the word_index from the tokenizer employed in the previous section\n",
        "idsss = [[tokenizer.word_index[j[0]] for j in lda_model.show_topic(i)] for i in range(10)]\n",
        "\n",
        "# Then I embedd each word using the previously built embedding_matrix\n",
        "emb = [[embedding_matrix[i] for i in j] for j in idsss]\n",
        "\n",
        "# In order to give more importance to words that are wheigted more, I also extract the list of wheigts for the words of each topic\n",
        "w =   [[j[1] for j in lda_model.show_topic(i)] for i in range(10)]\n",
        "\n",
        "# Then I procede to get the average vector by performing the dot product between the embedded tokens and the correspondant wheights. Although this is not a proper average vector\n",
        "# as it is not divided by the number of vectores involved in the sum, it is enough for the task of cosine similiarity that I'm going to perform later.\n",
        "avg_embedded_topics = {i:np.dot(w[i], emb[i]) for i in range(10)}"
      ],
      "metadata": {
        "id": "RvUNYC0Yd7--"
      },
      "execution_count": 21,
      "outputs": []
    },
    {
      "cell_type": "code",
      "source": [
        "# In order to perform cosine similarity I also need to embedd each one of the tokens that make up a tweet.\n",
        "\n",
        "idx = [[tokenizer.word_index[j] for j in i] for i in sentences_tk]\n",
        "embedded = [[embedding_matrix[i] for i in j] for j in idx]\n",
        "\n",
        "# I use a for loop to sum all the vector embedding of each one of the tokens of the tweets\n",
        "\n",
        "avg_embedded_tweet =[]\n",
        "\n",
        "for i in range(len(embedded)):\n",
        "  for j in range(len(embedded[i])):\n",
        "    partial = np.zeros(300)\n",
        "    partial = partial + embedded[i][j]\n",
        "  avg_embedded_tweet.append(partial)"
      ],
      "metadata": {
        "id": "SHzw2KLErPEM"
      },
      "execution_count": 22,
      "outputs": []
    },
    {
      "cell_type": "code",
      "source": [
        "from sklearn.metrics.pairwise import cosine_similarity\n",
        "from scipy import spatial\n",
        "\n",
        "# I use a custom function to perform cosine similarity and select the best topic.\n",
        "\n",
        "def max_cosine(values, topics):\n",
        "  scores = []\n",
        "  for i in range(10):\n",
        "    scores.append(spatial.distance.cosine(values, topics[i])%1)\n",
        "  return scores.index(max(scores))"
      ],
      "metadata": {
        "id": "UVkMGHtA3pvO"
      },
      "execution_count": 23,
      "outputs": []
    },
    {
      "cell_type": "code",
      "source": [
        "# Finally, I build a list of the best matching topic for each tweet, according to cosine similarity.\n",
        "\n",
        "topics = [max_cosine(i, avg_embedded_topics) for i in avg_embedded_tweet]"
      ],
      "metadata": {
        "id": "ipkS-PcY6wqP"
      },
      "execution_count": 24,
      "outputs": []
    },
    {
      "cell_type": "code",
      "source": [
        "len(topics)"
      ],
      "metadata": {
        "colab": {
          "base_uri": "https://localhost:8080/"
        },
        "id": "tLwE5lU9y_SB",
        "outputId": "dec252e4-cd0f-4c24-8d43-a7d42e1e3fd8"
      },
      "execution_count": 29,
      "outputs": [
        {
          "output_type": "execute_result",
          "data": {
            "text/plain": [
              "1200000"
            ]
          },
          "metadata": {},
          "execution_count": 29
        }
      ]
    },
    {
      "cell_type": "code",
      "source": [
        "topics[:10]"
      ],
      "metadata": {
        "colab": {
          "base_uri": "https://localhost:8080/"
        },
        "id": "VVy_bm6kzRdm",
        "outputId": "0d87c833-b2a7-461c-ff33-ce61f281d0fe"
      },
      "execution_count": 31,
      "outputs": [
        {
          "output_type": "execute_result",
          "data": {
            "text/plain": [
              "[9, 8, 7, 4, 1, 1, 6, 5, 1, 1]"
            ]
          },
          "metadata": {},
          "execution_count": 31
        }
      ]
    },
    {
      "cell_type": "code",
      "source": [
        "# As a final step, I plot a histogram of the number of positive and negative occurences for each assigned topic.\n",
        "\n",
        "\n",
        "from matplotlib import pyplot\n",
        "\n",
        "\n",
        "x = [topics[i] for i in range(len(topics)) if labels_tk[i]==0]\n",
        "y = [topics[i] for i in range(len(topics)) if labels_tk[i]==1]\n",
        "\n",
        "\n",
        "\n",
        "pyplot.figure(figsize=(15,9))\n",
        "pyplot.hist([x,y], bins=np.arange(11)-0.5, alpha=0.5, label=['Negative','Positive'])\n",
        "pyplot.xticks(np.arange(11))\n",
        "pyplot.legend(loc='upper right')\n",
        "pyplot.plot()"
      ],
      "metadata": {
        "colab": {
          "base_uri": "https://localhost:8080/",
          "height": 648
        },
        "id": "CrmSTnZdlw05",
        "outputId": "bcbc8477-ead3-4cd9-de4b-f50fbaf775da"
      },
      "execution_count": 38,
      "outputs": [
        {
          "output_type": "stream",
          "name": "stderr",
          "text": [
            "/usr/local/lib/python3.7/dist-packages/numpy/core/fromnumeric.py:3208: VisibleDeprecationWarning: Creating an ndarray from ragged nested sequences (which is a list-or-tuple of lists-or-tuples-or ndarrays with different lengths or shapes) is deprecated. If you meant to do this, you must specify 'dtype=object' when creating the ndarray.\n",
            "  return asarray(a).size\n",
            "/usr/local/lib/python3.7/dist-packages/matplotlib/cbook/__init__.py:1376: VisibleDeprecationWarning: Creating an ndarray from ragged nested sequences (which is a list-or-tuple of lists-or-tuples-or ndarrays with different lengths or shapes) is deprecated. If you meant to do this, you must specify 'dtype=object' when creating the ndarray.\n",
            "  X = np.atleast_1d(X.T if isinstance(X, np.ndarray) else np.asarray(X))\n"
          ]
        },
        {
          "output_type": "execute_result",
          "data": {
            "text/plain": [
              "[]"
            ]
          },
          "metadata": {},
          "execution_count": 38
        },
        {
          "output_type": "display_data",
          "data": {
            "text/plain": [
              "<Figure size 1080x648 with 1 Axes>"
            ],
            "image/png": "[encoded data removed]"
          },
          "metadata": {
            "needs_background": "light"
          }
        }
      ]
    }
  ],
  "metadata": {
    "accelerator": "GPU",
    "colab": {
      "collapsed_sections": [],
      "name": "SA_twitter_TextMining_Module.ipynb",
      "provenance": []
    },
    "gpuClass": "standard",
    "kernelspec": {
      "display_name": "Python 3",
      "name": "python3"
    },
    "language_info": {
      "name": "python"
    }
  },
  "nbformat": 4,
  "nbformat_minor": 0
}